{
 "cells": [
  {
   "cell_type": "code",
   "execution_count": 1,
   "metadata": {},
   "outputs": [],
   "source": [
    "#https://python.langchain.com/v0.1/docs/modules/model_io/prompts/few_shot_examples_chat/\n",
    "\n",
    "#CSV Parser\n",
    "#https://python.langchain.com/v0.1/docs/modules/model_io/output_parsers/types/csv/"
   ]
  },
  {
   "cell_type": "markdown",
   "metadata": {},
   "source": [
    "The basic components of the template are:  \n",
    "\n",
    "examples: A list of dictionary examples to include in the final prompt.  \n",
    "example_prompt: converts each example into 1 or more messages through its format_messages method. A common example would be to convert each example into one human message and one AI message response, or a human message followed by a function call message."
   ]
  },
  {
   "cell_type": "code",
   "execution_count": 1,
   "metadata": {},
   "outputs": [],
   "source": [
    "! pip install -qU langchain-ibm"
   ]
  },
  {
   "cell_type": "code",
   "execution_count": 2,
   "metadata": {},
   "outputs": [],
   "source": [
    "from langchain_core.prompts import ChatPromptTemplate, FewShotChatMessagePromptTemplate"
   ]
  },
  {
   "cell_type": "code",
   "execution_count": 3,
   "metadata": {},
   "outputs": [],
   "source": [
    "examples = [\n",
    "    {\"input\": \"\"\"Patheon continues to exhibit insufficient compliance systems out of their St. Louis Drug Substance Manufacturing Site. Release On Time metrics have yet to meet the expectations defined within the quality agreement. On time and thorough deviation investigations, re-released batches, and extended quality control lab investigations are all as contributing factors. \n",
    "Observations made during internal Pre-PAI audits combined with a High-Risk External Entity Oversite Level (EEOL) assessment indicate major risks moving into the Pre-Approval Inspection. Currently there is no risk to supply which is highly dependent upon the subsequent clinical readouts for MK4280, MK7684 and MK1308.\n",
    "\"\"\", \n",
    "     \"output\": \"\"\"Risk:\n",
    "Observations made during internal Pre-PAI audits combined with a High-Risk External Entity Oversite Level (EEOL) assessment indicate major risks moving into the Pre-Approval Inspection.\n",
    "Cause:\n",
    "Patheon continues to exhibit insufficient compliance systems out of their St. Louis Drug Substance Manufacturing Site. Release On Time metrics have yet to meet the expectations defined within the quality agreement. On time and thorough deviation investigations, re-released batches, and extended quality control lab investigations are all as contributing factors.\n",
    "Impact:\n",
    "Currently there is no risk to supply which is highly dependent upon the subsequent clinical readouts for MK4280, MK7684 and MK1308.\n",
    "\"\"\"},\n",
    "    {\"input\": \"\"\"Borate concentration variability (low-trending, OOS) in Purification. Risk is inability to manufacture the buffer to be used in BAD batches. impact would be 1 week of CTP (continued to process) and 6 weeks for repeat (1 currently available in schedule.  2-3 could be covered with overtime/14 day break).\n",
    "\"\"\", \n",
    "     \"output\": \"\"\"Risk:\n",
    "Risk is inability to manufacture the buffer to be used in BAD batches.\n",
    "Cause:\n",
    "Borate concentration variability (low-trending, OOS) in Purification.\n",
    "Impact:\n",
    "impact would be 1 week of CTP (continued to process) and 6 weeks for repeat (1 currently available in schedule.  2-3 could be covered with overtime/14 day break).\n",
    "\"\"\"},\n",
    "]"
   ]
  },
  {
   "cell_type": "code",
   "execution_count": 4,
   "metadata": {},
   "outputs": [
    {
     "data": {
      "text/plain": [
       "[{'input': 'Patheon continues to exhibit insufficient compliance systems out of their St. Louis Drug Substance Manufacturing Site. Release On Time metrics have yet to meet the expectations defined within the quality agreement. On time and thorough deviation investigations, re-released batches, and extended quality control lab investigations are all as contributing factors. \\nObservations made during internal Pre-PAI audits combined with a High-Risk External Entity Oversite Level (EEOL) assessment indicate major risks moving into the Pre-Approval Inspection. Currently there is no risk to supply which is highly dependent upon the subsequent clinical readouts for MK4280, MK7684 and MK1308.\\n',\n",
       "  'output': 'Risk:\\nObservations made during internal Pre-PAI audits combined with a High-Risk External Entity Oversite Level (EEOL) assessment indicate major risks moving into the Pre-Approval Inspection.\\nCause:\\nPatheon continues to exhibit insufficient compliance systems out of their St. Louis Drug Substance Manufacturing Site. Release On Time metrics have yet to meet the expectations defined within the quality agreement. On time and thorough deviation investigations, re-released batches, and extended quality control lab investigations are all as contributing factors.\\nImpact:\\nCurrently there is no risk to supply which is highly dependent upon the subsequent clinical readouts for MK4280, MK7684 and MK1308.\\n'},\n",
       " {'input': 'Borate concentration variability (low-trending, OOS) in Purification. Risk is inability to manufacture the buffer to be used in BAD batches. impact would be 1 week of CTP (continued to process) and 6 weeks for repeat (1 currently available in schedule.  2-3 could be covered with overtime/14 day break).\\n',\n",
       "  'output': 'Risk:\\nRisk is inability to manufacture the buffer to be used in BAD batches.\\nCause:\\nBorate concentration variability (low-trending, OOS) in Purification.\\nImpact:\\nimpact would be 1 week of CTP (continued to process) and 6 weeks for repeat (1 currently available in schedule.  2-3 could be covered with overtime/14 day break).\\n'}]"
      ]
     },
     "execution_count": 4,
     "metadata": {},
     "output_type": "execute_result"
    }
   ],
   "source": [
    "examples"
   ]
  },
  {
   "cell_type": "code",
   "execution_count": 5,
   "metadata": {},
   "outputs": [
    {
     "name": "stdout",
     "output_type": "stream",
     "text": [
      "Human: Patheon continues to exhibit insufficient compliance systems out of their St. Louis Drug Substance Manufacturing Site. Release On Time metrics have yet to meet the expectations defined within the quality agreement. On time and thorough deviation investigations, re-released batches, and extended quality control lab investigations are all as contributing factors. \n",
      "Observations made during internal Pre-PAI audits combined with a High-Risk External Entity Oversite Level (EEOL) assessment indicate major risks moving into the Pre-Approval Inspection. Currently there is no risk to supply which is highly dependent upon the subsequent clinical readouts for MK4280, MK7684 and MK1308.\n",
      "\n",
      "AI: Risk:\n",
      "Observations made during internal Pre-PAI audits combined with a High-Risk External Entity Oversite Level (EEOL) assessment indicate major risks moving into the Pre-Approval Inspection.\n",
      "Cause:\n",
      "Patheon continues to exhibit insufficient compliance systems out of their St. Louis Drug Substance Manufacturing Site. Release On Time metrics have yet to meet the expectations defined within the quality agreement. On time and thorough deviation investigations, re-released batches, and extended quality control lab investigations are all as contributing factors.\n",
      "Impact:\n",
      "Currently there is no risk to supply which is highly dependent upon the subsequent clinical readouts for MK4280, MK7684 and MK1308.\n",
      "\n",
      "Human: Borate concentration variability (low-trending, OOS) in Purification. Risk is inability to manufacture the buffer to be used in BAD batches. impact would be 1 week of CTP (continued to process) and 6 weeks for repeat (1 currently available in schedule.  2-3 could be covered with overtime/14 day break).\n",
      "\n",
      "AI: Risk:\n",
      "Risk is inability to manufacture the buffer to be used in BAD batches.\n",
      "Cause:\n",
      "Borate concentration variability (low-trending, OOS) in Purification.\n",
      "Impact:\n",
      "impact would be 1 week of CTP (continued to process) and 6 weeks for repeat (1 currently available in schedule.  2-3 could be covered with overtime/14 day break).\n",
      "\n"
     ]
    }
   ],
   "source": [
    "# This is a prompt template used to format each individual example.\n",
    "example_prompt = ChatPromptTemplate.from_messages(\n",
    "    [\n",
    "        (\"human\", \"{input}\"),\n",
    "        (\"ai\", \"{output}\"),\n",
    "    ]\n",
    ")\n",
    "few_shot_prompt = FewShotChatMessagePromptTemplate(\n",
    "    example_prompt=example_prompt,\n",
    "    examples=examples,\n",
    ")\n",
    "\n",
    "print(few_shot_prompt.format())"
   ]
  },
  {
   "cell_type": "code",
   "execution_count": 6,
   "metadata": {},
   "outputs": [],
   "source": [
    "system_msg = \"You are a helpful, respectful and honest assistant. Always answer as helpfully as possible, while being safe.  Your answers should not include any harmful, unethical, racist, sexist, toxic, dangerous, or illegal content. Please ensure that your responses are socially unbiased and positive in nature.\\n\\nIf a question does not make any sense, or is not factually coherent, explain why instead of answering something not correct. If you don'\\''t know the answer to a question, please don'\\''t share false information.\"\n",
    "final_prompt = ChatPromptTemplate.from_messages(\n",
    "    [\n",
    "        (\"system\", system_msg),\n",
    "        few_shot_prompt,\n",
    "        (\"human\", \"{input}\"),\n",
    "    ]\n",
    ")"
   ]
  },
  {
   "cell_type": "code",
   "execution_count": 8,
   "metadata": {},
   "outputs": [
    {
     "name": "stdout",
     "output_type": "stream",
     "text": [
      "input_variables=['input'] messages=[SystemMessagePromptTemplate(prompt=PromptTemplate(input_variables=[], template=\"You are a helpful, respectful and honest assistant. Always answer as helpfully as possible, while being safe.  Your answers should not include any harmful, unethical, racist, sexist, toxic, dangerous, or illegal content. Please ensure that your responses are socially unbiased and positive in nature.\\n\\nIf a question does not make any sense, or is not factually coherent, explain why instead of answering something not correct. If you don'''t know the answer to a question, please don'''t share false information.\")), FewShotChatMessagePromptTemplate(examples=[{'input': 'Patheon continues to exhibit insufficient compliance systems out of their St. Louis Drug Substance Manufacturing Site. Release On Time metrics have yet to meet the expectations defined within the quality agreement. On time and thorough deviation investigations, re-released batches, and extended quality control lab investigations are all as contributing factors. \\nObservations made during internal Pre-PAI audits combined with a High-Risk External Entity Oversite Level (EEOL) assessment indicate major risks moving into the Pre-Approval Inspection. Currently there is no risk to supply which is highly dependent upon the subsequent clinical readouts for MK4280, MK7684 and MK1308.\\n', 'output': 'Risk:\\nObservations made during internal Pre-PAI audits combined with a High-Risk External Entity Oversite Level (EEOL) assessment indicate major risks moving into the Pre-Approval Inspection.\\nCause:\\nPatheon continues to exhibit insufficient compliance systems out of their St. Louis Drug Substance Manufacturing Site. Release On Time metrics have yet to meet the expectations defined within the quality agreement. On time and thorough deviation investigations, re-released batches, and extended quality control lab investigations are all as contributing factors.\\nImpact:\\nCurrently there is no risk to supply which is highly dependent upon the subsequent clinical readouts for MK4280, MK7684 and MK1308.\\n'}, {'input': 'Borate concentration variability (low-trending, OOS) in Purification. Risk is inability to manufacture the buffer to be used in BAD batches. impact would be 1 week of CTP (continued to process) and 6 weeks for repeat (1 currently available in schedule.  2-3 could be covered with overtime/14 day break).\\n', 'output': 'Risk:\\nRisk is inability to manufacture the buffer to be used in BAD batches.\\nCause:\\nBorate concentration variability (low-trending, OOS) in Purification.\\nImpact:\\nimpact would be 1 week of CTP (continued to process) and 6 weeks for repeat (1 currently available in schedule.  2-3 could be covered with overtime/14 day break).\\n'}], example_prompt=ChatPromptTemplate(input_variables=['input', 'output'], messages=[HumanMessagePromptTemplate(prompt=PromptTemplate(input_variables=['input'], template='{input}')), AIMessagePromptTemplate(prompt=PromptTemplate(input_variables=['output'], template='{output}'))])), HumanMessagePromptTemplate(prompt=PromptTemplate(input_variables=['input'], template='{input}'))]\n"
     ]
    }
   ],
   "source": [
    "print(final_prompt)"
   ]
  },
  {
   "cell_type": "code",
   "execution_count": 7,
   "metadata": {},
   "outputs": [],
   "source": [
    "input = \"What's the square of a triangle?\""
   ]
  },
  {
   "cell_type": "code",
   "execution_count": null,
   "metadata": {},
   "outputs": [],
   "source": [
    "from langchain_community.chat_models import ChatAnthropic\n",
    "\n",
    "chain = final_prompt | ChatAnthropic(temperature=0.0)\n",
    "\n",
    "chain.invoke({\"input\": input})"
   ]
  },
  {
   "cell_type": "code",
   "execution_count": null,
   "metadata": {},
   "outputs": [],
   "source": [
    "#Or we can create a chain like this also\n",
    "from langchain.chains import LLMChain\n",
    "\n",
    "llm_chain = LLMChain(prompt=prompt, llm=watsonx_llm)\n",
    "llm_chain.invoke(\"dog\")"
   ]
  }
 ],
 "metadata": {
  "kernelspec": {
   "display_name": "genai",
   "language": "python",
   "name": "python3"
  },
  "language_info": {
   "codemirror_mode": {
    "name": "ipython",
    "version": 3
   },
   "file_extension": ".py",
   "mimetype": "text/x-python",
   "name": "python",
   "nbconvert_exporter": "python",
   "pygments_lexer": "ipython3",
   "version": "3.11.0"
  }
 },
 "nbformat": 4,
 "nbformat_minor": 2
}
