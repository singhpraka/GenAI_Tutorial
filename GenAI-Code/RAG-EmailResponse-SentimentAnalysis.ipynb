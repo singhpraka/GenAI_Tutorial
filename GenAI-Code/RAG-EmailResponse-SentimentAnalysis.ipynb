{
 "cells": [
  {
   "cell_type": "code",
   "execution_count": 1,
   "metadata": {},
   "outputs": [
    {
     "data": {
      "text/plain": [
       "True"
      ]
     },
     "execution_count": 1,
     "metadata": {},
     "output_type": "execute_result"
    }
   ],
   "source": [
    "import os\n",
    "import pathlib\n",
    "import yaml\n",
    "import numpy as np\n",
    "import pandas as pd\n",
    "from dotenv import load_dotenv\n",
    "from ibm_watson_machine_learning.foundation_models import Model\n",
    "from ibm_watson_machine_learning.foundation_models.extensions.langchain import (\n",
    "    WatsonxLLM,\n",
    ")\n",
    "from ibm_watson_machine_learning.foundation_models.utils.enums import ModelTypes\n",
    "from ibm_watson_machine_learning.metanames import GenTextParamsMetaNames as GenParams\n",
    "\n",
    "from utils import utils\n",
    "from dotenv import load_dotenv\n",
    "\n",
    "def load_config():\n",
    "    with open('config.yaml', 'r') as file:\n",
    "        config = yaml.safe_load(file)\n",
    "    return config\n",
    "\n",
    "config = load_config()\n",
    "\n",
    "load_dotenv()"
   ]
  },
  {
   "cell_type": "code",
   "execution_count": 2,
   "metadata": {},
   "outputs": [],
   "source": [
    "project_id = os.environ[\"PROJECT_ID\"]\n",
    "model_id = config[\"watsonx_model\"][\"llama_2_70b_chat\"]\n",
    "#model_id = ModelTypes.LLAMA_2_70B_CHAT\n",
    "parameters = {\n",
    "    GenParams.MAX_NEW_TOKENS: 20,\n",
    "    GenParams.MIN_NEW_TOKENS: 0,\n",
    "    GenParams.DECODING_METHOD:\"sample\",\n",
    "    GenParams.STOP_SEQUENCES:[],\n",
    "    GenParams.REPETITION_PENALTY: 1,\n",
    "    GenParams.TEMPERATURE: 0.5\n",
    "}\n",
    "\n",
    "credentials = {\n",
    "    \"url\": os.environ[\"GENAI_API\"],\n",
    "    \"apikey\": os.environ[\"GENAI_KEY\"],\n",
    "}  "
   ]
  },
  {
   "cell_type": "code",
   "execution_count": 3,
   "metadata": {},
   "outputs": [],
   "source": [
    "def watsonx_llm():\n",
    "    model = Model(\n",
    "        model_id=model_id,\n",
    "        params=parameters,\n",
    "        credentials=credentials,\n",
    "        project_id=project_id,\n",
    "        )\n",
    "    llm = WatsonxLLM(model=model)\n",
    "    return llm\n",
    "\n",
    "\n",
    "llm = watsonx_llm()"
   ]
  },
  {
   "cell_type": "markdown",
   "metadata": {},
   "source": [
    "# Prompt to generate response"
   ]
  },
  {
   "cell_type": "code",
   "execution_count": 4,
   "metadata": {},
   "outputs": [
    {
     "name": "stdout",
     "output_type": "stream",
     "text": [
      "[{'first_name': 'Ryan', 'last_name': 'Martin', 'gender': 'female'}, {'first_name': 'Alexandra', 'last_name': 'Trujillo', 'gender': 'male'}, {'first_name': 'Jessica', 'last_name': 'Riley', 'gender': 'male'}, {'first_name': 'Brandi', 'last_name': 'Watkins', 'gender': 'female'}, {'first_name': 'Maria', 'last_name': 'Barry', 'gender': 'male'}, {'first_name': 'Brent', 'last_name': 'Scott', 'gender': 'female'}, {'first_name': 'Steven', 'last_name': 'Moran', 'gender': 'female'}, {'first_name': 'Sheila', 'last_name': 'Ramirez', 'gender': 'male'}, {'first_name': 'Daniel', 'last_name': 'Olson', 'gender': 'male'}, {'first_name': 'Richard', 'last_name': 'Harper', 'gender': 'male'}, {'first_name': 'Donna', 'last_name': 'Davis', 'gender': 'female'}, {'first_name': 'Cynthia', 'last_name': 'Brown', 'gender': 'female'}, {'first_name': 'Sandra', 'last_name': 'Zamora', 'gender': 'male'}, {'first_name': 'Brian', 'last_name': 'Kennedy', 'gender': 'female'}, {'first_name': 'Bridget', 'last_name': 'Anderson', 'gender': 'male'}, {'first_name': 'Melissa', 'last_name': 'Fitzgerald', 'gender': 'female'}, {'first_name': 'Jesus', 'last_name': 'Coleman', 'gender': 'female'}, {'first_name': 'Jacqueline', 'last_name': 'Johnson', 'gender': 'female'}, {'first_name': 'Rachel', 'last_name': 'Hogan', 'gender': 'female'}, {'first_name': 'Deanna', 'last_name': 'Cummings', 'gender': 'female'}]\n"
     ]
    }
   ],
   "source": [
    "from faker import Faker\n",
    "fake = Faker()\n",
    "\n",
    "# Generate customer names\n",
    "num_customers = 20  # You can change this to the number of customers you want\n",
    "customer_names = []\n",
    "\n",
    "customer_names = [{'first_name': fake.first_name(),\n",
    "                    'last_name': fake.last_name(),\n",
    "                    'gender': fake.random_element(elements=('male', 'female'))\n",
    "                    }\n",
    "                for _ in range(num_customers)]\n",
    "\n",
    "\n",
    "print(customer_names)"
   ]
  },
  {
   "cell_type": "markdown",
   "metadata": {},
   "source": [
    "### Reading scenarios from Excel file"
   ]
  },
  {
   "cell_type": "code",
   "execution_count": 5,
   "metadata": {},
   "outputs": [],
   "source": [
    "df = pd.read_excel(\"data\\demo-scenarios.xlsx\")\n",
    "df[\"Exclude\"] = df[\"Exclude\"].fillna(\"\")\n",
    "rand = np.random.RandomState(12345)\n",
    "cust_names = [item for item in rand.choice(customer_names, len(df))]\n",
    "# print(cust_names)\n",
    "df[\"Customer Name\"] = [f\"{name['first_name'].capitalize()} {name['last_name'].capitalize()}\" for name in cust_names]\n",
    "df[\"Email\"] = [f\"{name['first_name'].lower()}.{name['last_name'].lower()}@gmail.com\" for name in cust_names]\n",
    "#df[[\"Customer Name\",\"Email\"]].head()"
   ]
  },
  {
   "cell_type": "code",
   "execution_count": 6,
   "metadata": {},
   "outputs": [
    {
     "name": "stdout",
     "output_type": "stream",
     "text": [
      "        Customer Name                         Email\n",
      "0       Jessica Riley       jessica.riley@gmail.com\n",
      "1         Brent Scott         brent.scott@gmail.com\n",
      "2  Alexandra Trujillo  alexandra.trujillo@gmail.com\n",
      "3         Maria Barry         maria.barry@gmail.com\n",
      "4      Richard Harper      richard.harper@gmail.com\n",
      "5         Brent Scott         brent.scott@gmail.com\n",
      "6       Jessica Riley       jessica.riley@gmail.com\n",
      "7  Alexandra Trujillo  alexandra.trujillo@gmail.com\n",
      "\n",
      "columns:['SR No.', 'Agent Name', 'Promotion Claim Code', 'Tracking Number', 'Customer Query 1', 'Content', 'Detail', 'Exclude', 'Response', 'Generated', 'Customer Name', 'Email']\n",
      "\n",
      "shape:(8, 12)\n"
     ]
    }
   ],
   "source": [
    "\n",
    "print(df[['Customer Name','Email']])\n",
    "print(f\"\\ncolumns:{df.columns.to_list()}\")\n",
    "print(f\"\\nshape:{df.shape}\")"
   ]
  },
  {
   "cell_type": "markdown",
   "metadata": {},
   "source": [
    "### Sentiment Analysis Starts Here"
   ]
  },
  {
   "cell_type": "code",
   "execution_count": 7,
   "metadata": {},
   "outputs": [
    {
     "name": "stdout",
     "output_type": "stream",
     "text": [
      "\n",
      "[INST] perform sentiment analysis on the email content.[/INST]\n",
      "[INST] Only provide your response as:\n",
      "- 'Extremely Negative'\n",
      "- 'Negative'\n",
      "- 'Neutral'\n",
      "- 'Positive'\n",
      "- 'Extremely Positive'\n",
      "[/INST]\n",
      "[INST] Only provide sentiment from given list and do not write anything else in your response.[/INST]\n",
      "\n",
      "[INST]\n",
      "{input_email}\n",
      "[/INST]\n",
      "\n"
     ]
    }
   ],
   "source": [
    "sa_prompt = \"\"\"\n",
    "[INST] perform sentiment analysis on the email content.[/INST]\n",
    "[INST] Only provide your response as:\n",
    "- 'Extremely Negative'\n",
    "- 'Negative'\n",
    "- 'Neutral'\n",
    "- 'Positive'\n",
    "- 'Extremely Positive'\n",
    "[/INST]\n",
    "[INST] Only provide sentiment from given list and do not write anything else in your response.[/INST]\n",
    "\n",
    "[INST]\n",
    "{input_email}\n",
    "[/INST]\n",
    "\"\"\"\n",
    "\n",
    "print(sa_prompt)"
   ]
  },
  {
   "cell_type": "code",
   "execution_count": 8,
   "metadata": {},
   "outputs": [
    {
     "name": "stdout",
     "output_type": "stream",
     "text": [
      "Sentiment Analysis\n",
      "Sentiment Analysis\n",
      "Sentiment Analysis\n",
      "Sentiment Analysis\n",
      "Sentiment Analysis\n",
      "Sentiment Analysis\n",
      "Sentiment Analysis\n",
      "Sentiment Analysis\n"
     ]
    }
   ],
   "source": [
    "from langchain.prompts import PromptTemplate\n",
    "\n",
    "def build_prompt_all_queries(email,fixed_template):    \n",
    "    prompt= PromptTemplate(input_variables=[\"input_email\"],template=fixed_template)\n",
    "    model_prompt = prompt.format(input_email=email)\n",
    "    return model_prompt\n",
    "\n",
    "def sentiment_analysis(customer_query_1):   \n",
    "    print(f\"Sentiment Analysis\")     \n",
    "    prompt= build_prompt_all_queries(customer_query_1,sa_prompt)\n",
    "    #print(f\"model prompt:{prompt}\")\n",
    "    sa_response = llm(prompt)\n",
    "    return sa_response\n",
    "\n",
    "df['customer_sentiment'] = df['Customer Query 1'].apply(sentiment_analysis)"
   ]
  },
  {
   "cell_type": "code",
   "execution_count": 9,
   "metadata": {},
   "outputs": [],
   "source": [
    "df['customer_sentiment'] = df['customer_sentiment'].apply(lambda x: x.strip())\n",
    "# assigning sentiment score on the scale of -2 to +2\n",
    "sentiment_score = {'Extremely Negative': -2,\n",
    "                   'Negative': -1,\n",
    "                   'Neutral': 0,\n",
    "                   'Positive': 1,\n",
    "                   'Extremely Positive': 2}\n",
    "df['sentiment_score'] = df['customer_sentiment'].map(sentiment_score)"
   ]
  },
  {
   "cell_type": "code",
   "execution_count": 10,
   "metadata": {},
   "outputs": [
    {
     "data": {
      "text/html": [
       "<div>\n",
       "<style scoped>\n",
       "    .dataframe tbody tr th:only-of-type {\n",
       "        vertical-align: middle;\n",
       "    }\n",
       "\n",
       "    .dataframe tbody tr th {\n",
       "        vertical-align: top;\n",
       "    }\n",
       "\n",
       "    .dataframe thead th {\n",
       "        text-align: right;\n",
       "    }\n",
       "</style>\n",
       "<table border=\"1\" class=\"dataframe\">\n",
       "  <thead>\n",
       "    <tr style=\"text-align: right;\">\n",
       "      <th></th>\n",
       "      <th>customer_sentiment</th>\n",
       "      <th>sentiment_score</th>\n",
       "    </tr>\n",
       "  </thead>\n",
       "  <tbody>\n",
       "    <tr>\n",
       "      <th>0</th>\n",
       "      <td>Neutral</td>\n",
       "      <td>0.0</td>\n",
       "    </tr>\n",
       "    <tr>\n",
       "      <th>1</th>\n",
       "      <td>Extremely Negative</td>\n",
       "      <td>-2.0</td>\n",
       "    </tr>\n",
       "    <tr>\n",
       "      <th>2</th>\n",
       "      <td>Extremely Negative</td>\n",
       "      <td>-2.0</td>\n",
       "    </tr>\n",
       "    <tr>\n",
       "      <th>3</th>\n",
       "      <td>Negative</td>\n",
       "      <td>-1.0</td>\n",
       "    </tr>\n",
       "    <tr>\n",
       "      <th>4</th>\n",
       "      <td>Extremely Positive</td>\n",
       "      <td>2.0</td>\n",
       "    </tr>\n",
       "    <tr>\n",
       "      <th>5</th>\n",
       "      <td>Negative</td>\n",
       "      <td>-1.0</td>\n",
       "    </tr>\n",
       "    <tr>\n",
       "      <th>6</th>\n",
       "      <td>Sentiment: Neutral</td>\n",
       "      <td>NaN</td>\n",
       "    </tr>\n",
       "    <tr>\n",
       "      <th>7</th>\n",
       "      <td>Sentiment: Neutral</td>\n",
       "      <td>NaN</td>\n",
       "    </tr>\n",
       "  </tbody>\n",
       "</table>\n",
       "</div>"
      ],
      "text/plain": [
       "   customer_sentiment  sentiment_score\n",
       "0             Neutral              0.0\n",
       "1  Extremely Negative             -2.0\n",
       "2  Extremely Negative             -2.0\n",
       "3            Negative             -1.0\n",
       "4  Extremely Positive              2.0\n",
       "5            Negative             -1.0\n",
       "6  Sentiment: Neutral              NaN\n",
       "7  Sentiment: Neutral              NaN"
      ]
     },
     "execution_count": 10,
     "metadata": {},
     "output_type": "execute_result"
    }
   ],
   "source": [
    "df[['customer_sentiment','sentiment_score']]"
   ]
  },
  {
   "cell_type": "code",
   "execution_count": 112,
   "metadata": {},
   "outputs": [],
   "source": [
    "PROMPT_TEMPLATE = \"\"\"\n",
    "Email is below.\n",
    "---------------------\n",
    "{{email}}\n",
    "---------------------\n",
    "\n",
    "Based on the email provided, remove salutation, sign-off and only leave the body of the email.\n",
    "\n",
    "Output:\n",
    "\"\"\"\n",
    "\n",
    "def extract_email(email):\n",
    "    return llm(PROMPT_TEMPLATE.replace(\"{{email}}\", email)).strip()\n",
    "\n",
    "df[\"Email Extract\"] = df[\"Customer Query 1\"].apply(extract_email)\n",
    "\n",
    "df.to_excel(\"output/demo-scenarios-processed_v3.xlsx\", index=False)\n",
    "\n",
    "# for idx, row in df.iterrows():\n",
    "#     response = llm(PROMPT_TEMPLATE.replace(\"{{email}}\", row[\"Email\"])).strip()\n",
    "#     print(response)"
   ]
  },
  {
   "cell_type": "code",
   "execution_count": 113,
   "metadata": {},
   "outputs": [],
   "source": [
    "SIGN_OFF = \"\"\"\n",
    "\n",
    "Regards,\n",
    "{{AGENT_NAME}} | Promotions Team\n",
    "Samsung Electronics Australia\n",
    "1300 362 603\n",
    "\"\"\"\n",
    "\n",
    "PROMPT_TEMPLATE = \"\"\"\n",
    "Email is below.\n",
    "---------------------\n",
    "{{email}}\n",
    "---------------------\n",
    "\n",
    "You are an empathetic and friendly customer service agent. \n",
    "\n",
    "Reply to a customer based on the provided email.\n",
    "\n",
    "Include the following in your response,\n",
    "{{content}}\n",
    "\n",
    "Do not mention the following in your response,\n",
    "{{exclude}}\n",
    "\n",
    "Remember:\n",
    "Start your response with Dear Sir / Madam,.\n",
    "End your response with Best regards.\n",
    "\n",
    "Response:\n",
    "\"\"\"\n",
    "\n",
    "\n",
    "def reply_email(row):\n",
    "    content = row[\"Content\"].replace(\"[DETAIL]\", row[\"Detail\"])\n",
    "    prompt = (\n",
    "        PROMPT_TEMPLATE.replace(\"{{email}}\", row[\"Email Extract\"])\n",
    "        .replace(\"{{content}}\", content)\n",
    "        .replace(\"{{exclude}}\", row[\"Exclude\"])\n",
    "    )\n",
    "    response = llm(prompt)\n",
    "    return response[: response.find(\"Best regards,\")].strip() + SIGN_OFF\n",
    "\n",
    "\n",
    "df[\"Generated\"] = df.apply(reply_email, axis=1)\n",
    "\n",
    "df.to_excel(\"output/demo-scenarios-processed_v3.xlsx\", index=False)\n",
    "\n",
    "# for idx, row in df.iterrows():\n",
    "#     response = reply_email(row)\n",
    "#     print(\"Email:\")\n",
    "#     print(row[\"Email\"])\n",
    "#     print()\n",
    "#     print(\"Response:\")\n",
    "#     print(response)\n",
    "#     print()\n",
    "#     print(\"-\" * 100)\n",
    "#     print()"
   ]
  },
  {
   "cell_type": "code",
   "execution_count": null,
   "metadata": {},
   "outputs": [],
   "source": [
    "df[[\"SR No.\", \"Customer Name\", \"Email\", \"Customer Query 1\", \"Generated\",\"customer_sentiment\",\"sentiment_score\"]]"
   ]
  },
  {
   "cell_type": "code",
   "execution_count": 115,
   "metadata": {},
   "outputs": [],
   "source": [
    "df[[\"SR No.\", \"Customer Name\", \"Email\", \"Customer Query 1\", \"Generated\",\"customer_sentiment\",\"sentiment_score\"]].to_json(\"output/email_response.json\", orient=\"records\")"
   ]
  },
  {
   "cell_type": "code",
   "execution_count": 117,
   "metadata": {},
   "outputs": [],
   "source": [
    "import json\n",
    "with open(\"output/email_response.json\") as f:\n",
    "    email_response = json.load(f)"
   ]
  },
  {
   "cell_type": "code",
   "execution_count": null,
   "metadata": {},
   "outputs": [],
   "source": [
    "email_response"
   ]
  },
  {
   "cell_type": "code",
   "execution_count": null,
   "metadata": {},
   "outputs": [],
   "source": []
  }
 ],
 "metadata": {
  "kernelspec": {
   "display_name": "Python 3",
   "language": "python",
   "name": "python3"
  },
  "language_info": {
   "codemirror_mode": {
    "name": "ipython",
    "version": 3
   },
   "file_extension": ".py",
   "mimetype": "text/x-python",
   "name": "python",
   "nbconvert_exporter": "python",
   "pygments_lexer": "ipython3",
   "version": "3.11.0"
  }
 },
 "nbformat": 4,
 "nbformat_minor": 2
}
