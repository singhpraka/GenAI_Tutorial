{
 "cells": [
  {
   "cell_type": "code",
   "execution_count": 1,
   "metadata": {},
   "outputs": [],
   "source": [
    "from datetime import datetime as dt\n",
    "import logging\n",
    "import yaml,os\n",
    "from utils import utils\n",
    "import pandas as pd\n",
    "from ibm_watson_machine_learning.foundation_models import Model\n",
    "from ibm_watson_machine_learning.foundation_models.extensions.langchain import (WatsonxLLM,)\n",
    "from ibm_watson_machine_learning.foundation_models.utils.enums import (ModelTypes,DecodingMethods)\n",
    "from ibm_watson_machine_learning.metanames import GenTextParamsMetaNames as GenParams"
   ]
  },
  {
   "cell_type": "code",
   "execution_count": null,
   "metadata": {},
   "outputs": [],
   "source": [
    "from dotenv import load_dotenv,find_dotenv"
   ]
  },
  {
   "cell_type": "code",
   "execution_count": 2,
   "metadata": {},
   "outputs": [
    {
     "data": {
      "text/plain": [
       "True"
      ]
     },
     "execution_count": 2,
     "metadata": {},
     "output_type": "execute_result"
    }
   ],
   "source": [
    "def load_config():\n",
    "    with open('config.yaml', 'r') as file:\n",
    "        config = yaml.safe_load(file)\n",
    "    return config\n",
    "\n",
    "config = load_config()\n",
    "\n",
    "load_dotenv()"
   ]
  },
  {
   "cell_type": "code",
   "execution_count": 4,
   "metadata": {},
   "outputs": [],
   "source": [
    "# Read the Excel file into a DataFrame\n",
    "excel_file_path = \"data/Email_Data_V0.1.xlsx\"\n",
    "sheet_names = [\"Single Query\",\"Multiple Query\"]\n",
    "df = pd.read_excel(excel_file_path,sheet_name=sheet_names[0])"
   ]
  },
  {
   "cell_type": "code",
   "execution_count": 9,
   "metadata": {},
   "outputs": [],
   "source": [
    "df.rename(columns = {'Customer_Query_1':'cust_qry_1',\n",
    "                     'Response_1':'promotion_res_1'}, \n",
    "                     inplace = True)"
   ]
  },
  {
   "cell_type": "code",
   "execution_count": 14,
   "metadata": {},
   "outputs": [],
   "source": [
    "query_response = [{\"customer_query\":row['cust_qry_1'],\n",
    "                   \"nagent_response\":row['promotion_res_1']\n",
    "                   }\n",
    "                for _,row in df.iterrows()\n",
    "                ]"
   ]
  },
  {
   "cell_type": "code",
   "execution_count": null,
   "metadata": {},
   "outputs": [],
   "source": [
    "query_response[0]"
   ]
  },
  {
   "cell_type": "code",
   "execution_count": 17,
   "metadata": {},
   "outputs": [],
   "source": [
    "from langchain.docstore.document import Document\n",
    "from langchain.vectorstores import FAISS"
   ]
  },
  {
   "cell_type": "code",
   "execution_count": 18,
   "metadata": {},
   "outputs": [],
   "source": [
    "query_res = []\n",
    "for q_r in query_response:\n",
    "    query_res.append(Document(page_content = f\"query:{q_r['customer_query']},response:{q_r['promotion_res_1']}\", \n",
    "                                            metadata = {\"file_Name\":excel_file_path, \n",
    "                                                        \"Sheet_Name\":sheet_names[0]}))\n"
   ]
  },
  {
   "cell_type": "code",
   "execution_count": null,
   "metadata": {},
   "outputs": [],
   "source": [
    "query_res"
   ]
  },
  {
   "cell_type": "code",
   "execution_count": 20,
   "metadata": {},
   "outputs": [],
   "source": [
    "from langchain.embeddings import SentenceTransformerEmbeddings\n",
    "embeddings = SentenceTransformerEmbeddings(model_name=config['embeddings']['model_name']) #\"all-MiniLM-L6-v2\""
   ]
  },
  {
   "cell_type": "code",
   "execution_count": 21,
   "metadata": {},
   "outputs": [],
   "source": [
    "query_res_vector_db = FAISS.from_documents(query_res, embeddings)"
   ]
  },
  {
   "cell_type": "code",
   "execution_count": 30,
   "metadata": {},
   "outputs": [],
   "source": [
    "query_res_vector_db.save_local(config['faiss_indexstore']['vec_db_path'], \"customer_email_n_response\")"
   ]
  },
  {
   "cell_type": "code",
   "execution_count": 31,
   "metadata": {},
   "outputs": [],
   "source": [
    "cust_email_db = FAISS.load_local(folder_path=config['faiss_indexstore']['vec_db_path'],\n",
    "                                 index_name=\"customer_email_n_response\", \n",
    "                                 embeddings = embeddings)"
   ]
  },
  {
   "cell_type": "code",
   "execution_count": 22,
   "metadata": {},
   "outputs": [],
   "source": [
    "email_13 = \"\"\"\n",
    "Dear XYZ,\n",
    "\n",
    "I hope this email finds you well. My name is XXXX XXXXXX, and I am writing to follow up on the status of my claim for the freebies watch promotion that was offered with my recent XYZ purchase.\n",
    "\n",
    "On July 02, 2023, I acquired a XYZ S23 ultra as part of the promotional offer, which entitles me to receive a free XYZ Watch. As a loyal XYZ customer, I am eagerly looking forward to taking advantage of this exciting promotion.\n",
    "\n",
    "As of today_s date, I haven_t received any updates or notifications regarding the status of my freebies watch claim. I would greatly appreciate it if you could provide me with an update on the processing and shipment status. Additionally, if there are any further steps required from my end, kindly let me know, and I_ll be sure to fulfill them promptly.\n",
    "\n",
    "Thank you for your attention to this matter. I truly value the XYZ brand and look forward to enjoying the benefits of this promotional offer.\n",
    "\n",
    "I eagerly anticipate your response and the arrival of my freebies watch. Please feel free to contact me at (000000) if you require any additional information.\n",
    "\n",
    "Best regards,\n",
    "XXXXXXX\n",
    "\"\"\""
   ]
  },
  {
   "cell_type": "code",
   "execution_count": 32,
   "metadata": {},
   "outputs": [],
   "source": [
    "search_results = cust_email_db.similarity_search(email_13, k=1)"
   ]
  },
  {
   "cell_type": "code",
   "execution_count": null,
   "metadata": {},
   "outputs": [],
   "source": [
    "search_results"
   ]
  },
  {
   "cell_type": "code",
   "execution_count": null,
   "metadata": {},
   "outputs": [],
   "source": [
    "print(search_results[0].page_content.split('response:')[-1])"
   ]
  },
  {
   "cell_type": "code",
   "execution_count": null,
   "metadata": {},
   "outputs": [],
   "source": []
  }
 ],
 "metadata": {
  "kernelspec": {
   "display_name": "genai",
   "language": "python",
   "name": "python3"
  },
  "language_info": {
   "codemirror_mode": {
    "name": "ipython",
    "version": 3
   },
   "file_extension": ".py",
   "mimetype": "text/x-python",
   "name": "python",
   "nbconvert_exporter": "python",
   "pygments_lexer": "ipython3",
   "version": "3.11.0"
  }
 },
 "nbformat": 4,
 "nbformat_minor": 2
}
