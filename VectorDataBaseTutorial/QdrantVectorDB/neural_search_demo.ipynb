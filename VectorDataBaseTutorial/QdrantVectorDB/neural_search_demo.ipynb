{
  "nbformat": 4,
  "nbformat_minor": 0,
  "metadata": {
    "colab": {
      "provenance": []
    },
    "kernelspec": {
      "name": "python3",
      "display_name": "Python 3"
    },
    "accelerator": "GPU",
    "widgets": {
      "application/vnd.jupyter.widget-state+json": {
        "ffc05069762f480797f5b2df5e224f37": {
          "model_module": "@jupyter-widgets/controls",
          "model_name": "HBoxModel",
          "model_module_version": "1.5.0",
          "state": {
            "_dom_classes": [],
            "_model_module": "@jupyter-widgets/controls",
            "_model_module_version": "1.5.0",
            "_model_name": "HBoxModel",
            "_view_count": null,
            "_view_module": "@jupyter-widgets/controls",
            "_view_module_version": "1.5.0",
            "_view_name": "HBoxView",
            "box_style": "",
            "children": [
              "IPY_MODEL_ed8036b011744a85bd0e0224800de81e",
              "IPY_MODEL_ab3e1429ed9148c6b280900de5f0c9da",
              "IPY_MODEL_8cbd00fdaa8944a0a0189b3dd6e8f9da"
            ],
            "layout": "IPY_MODEL_5039e40c84034f4dac98146de2c7f941"
          }
        },
        "ed8036b011744a85bd0e0224800de81e": {
          "model_module": "@jupyter-widgets/controls",
          "model_name": "HTMLModel",
          "model_module_version": "1.5.0",
          "state": {
            "_dom_classes": [],
            "_model_module": "@jupyter-widgets/controls",
            "_model_module_version": "1.5.0",
            "_model_name": "HTMLModel",
            "_view_count": null,
            "_view_module": "@jupyter-widgets/controls",
            "_view_module_version": "1.5.0",
            "_view_name": "HTMLView",
            "description": "",
            "description_tooltip": null,
            "layout": "IPY_MODEL_8282c04c35924092bb78ba6437b6a0ab",
            "placeholder": "​",
            "style": "IPY_MODEL_10825f8a60a245f7947f99419bd45d08",
            "value": "Batches: 100%"
          }
        },
        "ab3e1429ed9148c6b280900de5f0c9da": {
          "model_module": "@jupyter-widgets/controls",
          "model_name": "FloatProgressModel",
          "model_module_version": "1.5.0",
          "state": {
            "_dom_classes": [],
            "_model_module": "@jupyter-widgets/controls",
            "_model_module_version": "1.5.0",
            "_model_name": "FloatProgressModel",
            "_view_count": null,
            "_view_module": "@jupyter-widgets/controls",
            "_view_module_version": "1.5.0",
            "_view_name": "ProgressView",
            "bar_style": "success",
            "description": "",
            "description_tooltip": null,
            "layout": "IPY_MODEL_1acb26066dca491d93bd500b767e7c0c",
            "max": 1265,
            "min": 0,
            "orientation": "horizontal",
            "style": "IPY_MODEL_7c4f7ad40a3e4b5e8eb74e94d6f44895",
            "value": 1265
          }
        },
        "8cbd00fdaa8944a0a0189b3dd6e8f9da": {
          "model_module": "@jupyter-widgets/controls",
          "model_name": "HTMLModel",
          "model_module_version": "1.5.0",
          "state": {
            "_dom_classes": [],
            "_model_module": "@jupyter-widgets/controls",
            "_model_module_version": "1.5.0",
            "_model_name": "HTMLModel",
            "_view_count": null,
            "_view_module": "@jupyter-widgets/controls",
            "_view_module_version": "1.5.0",
            "_view_name": "HTMLView",
            "description": "",
            "description_tooltip": null,
            "layout": "IPY_MODEL_25ee00ee06bd46eeaebfedb8dd7f4ef8",
            "placeholder": "​",
            "style": "IPY_MODEL_90fa2965064340efb9617a4e4025410d",
            "value": " 1265/1265 [00:39&lt;00:00, 87.23it/s]"
          }
        },
        "5039e40c84034f4dac98146de2c7f941": {
          "model_module": "@jupyter-widgets/base",
          "model_name": "LayoutModel",
          "model_module_version": "1.2.0",
          "state": {
            "_model_module": "@jupyter-widgets/base",
            "_model_module_version": "1.2.0",
            "_model_name": "LayoutModel",
            "_view_count": null,
            "_view_module": "@jupyter-widgets/base",
            "_view_module_version": "1.2.0",
            "_view_name": "LayoutView",
            "align_content": null,
            "align_items": null,
            "align_self": null,
            "border": null,
            "bottom": null,
            "display": null,
            "flex": null,
            "flex_flow": null,
            "grid_area": null,
            "grid_auto_columns": null,
            "grid_auto_flow": null,
            "grid_auto_rows": null,
            "grid_column": null,
            "grid_gap": null,
            "grid_row": null,
            "grid_template_areas": null,
            "grid_template_columns": null,
            "grid_template_rows": null,
            "height": null,
            "justify_content": null,
            "justify_items": null,
            "left": null,
            "margin": null,
            "max_height": null,
            "max_width": null,
            "min_height": null,
            "min_width": null,
            "object_fit": null,
            "object_position": null,
            "order": null,
            "overflow": null,
            "overflow_x": null,
            "overflow_y": null,
            "padding": null,
            "right": null,
            "top": null,
            "visibility": null,
            "width": null
          }
        },
        "8282c04c35924092bb78ba6437b6a0ab": {
          "model_module": "@jupyter-widgets/base",
          "model_name": "LayoutModel",
          "model_module_version": "1.2.0",
          "state": {
            "_model_module": "@jupyter-widgets/base",
            "_model_module_version": "1.2.0",
            "_model_name": "LayoutModel",
            "_view_count": null,
            "_view_module": "@jupyter-widgets/base",
            "_view_module_version": "1.2.0",
            "_view_name": "LayoutView",
            "align_content": null,
            "align_items": null,
            "align_self": null,
            "border": null,
            "bottom": null,
            "display": null,
            "flex": null,
            "flex_flow": null,
            "grid_area": null,
            "grid_auto_columns": null,
            "grid_auto_flow": null,
            "grid_auto_rows": null,
            "grid_column": null,
            "grid_gap": null,
            "grid_row": null,
            "grid_template_areas": null,
            "grid_template_columns": null,
            "grid_template_rows": null,
            "height": null,
            "justify_content": null,
            "justify_items": null,
            "left": null,
            "margin": null,
            "max_height": null,
            "max_width": null,
            "min_height": null,
            "min_width": null,
            "object_fit": null,
            "object_position": null,
            "order": null,
            "overflow": null,
            "overflow_x": null,
            "overflow_y": null,
            "padding": null,
            "right": null,
            "top": null,
            "visibility": null,
            "width": null
          }
        },
        "10825f8a60a245f7947f99419bd45d08": {
          "model_module": "@jupyter-widgets/controls",
          "model_name": "DescriptionStyleModel",
          "model_module_version": "1.5.0",
          "state": {
            "_model_module": "@jupyter-widgets/controls",
            "_model_module_version": "1.5.0",
            "_model_name": "DescriptionStyleModel",
            "_view_count": null,
            "_view_module": "@jupyter-widgets/base",
            "_view_module_version": "1.2.0",
            "_view_name": "StyleView",
            "description_width": ""
          }
        },
        "1acb26066dca491d93bd500b767e7c0c": {
          "model_module": "@jupyter-widgets/base",
          "model_name": "LayoutModel",
          "model_module_version": "1.2.0",
          "state": {
            "_model_module": "@jupyter-widgets/base",
            "_model_module_version": "1.2.0",
            "_model_name": "LayoutModel",
            "_view_count": null,
            "_view_module": "@jupyter-widgets/base",
            "_view_module_version": "1.2.0",
            "_view_name": "LayoutView",
            "align_content": null,
            "align_items": null,
            "align_self": null,
            "border": null,
            "bottom": null,
            "display": null,
            "flex": null,
            "flex_flow": null,
            "grid_area": null,
            "grid_auto_columns": null,
            "grid_auto_flow": null,
            "grid_auto_rows": null,
            "grid_column": null,
            "grid_gap": null,
            "grid_row": null,
            "grid_template_areas": null,
            "grid_template_columns": null,
            "grid_template_rows": null,
            "height": null,
            "justify_content": null,
            "justify_items": null,
            "left": null,
            "margin": null,
            "max_height": null,
            "max_width": null,
            "min_height": null,
            "min_width": null,
            "object_fit": null,
            "object_position": null,
            "order": null,
            "overflow": null,
            "overflow_x": null,
            "overflow_y": null,
            "padding": null,
            "right": null,
            "top": null,
            "visibility": null,
            "width": null
          }
        },
        "7c4f7ad40a3e4b5e8eb74e94d6f44895": {
          "model_module": "@jupyter-widgets/controls",
          "model_name": "ProgressStyleModel",
          "model_module_version": "1.5.0",
          "state": {
            "_model_module": "@jupyter-widgets/controls",
            "_model_module_version": "1.5.0",
            "_model_name": "ProgressStyleModel",
            "_view_count": null,
            "_view_module": "@jupyter-widgets/base",
            "_view_module_version": "1.2.0",
            "_view_name": "StyleView",
            "bar_color": null,
            "description_width": ""
          }
        },
        "25ee00ee06bd46eeaebfedb8dd7f4ef8": {
          "model_module": "@jupyter-widgets/base",
          "model_name": "LayoutModel",
          "model_module_version": "1.2.0",
          "state": {
            "_model_module": "@jupyter-widgets/base",
            "_model_module_version": "1.2.0",
            "_model_name": "LayoutModel",
            "_view_count": null,
            "_view_module": "@jupyter-widgets/base",
            "_view_module_version": "1.2.0",
            "_view_name": "LayoutView",
            "align_content": null,
            "align_items": null,
            "align_self": null,
            "border": null,
            "bottom": null,
            "display": null,
            "flex": null,
            "flex_flow": null,
            "grid_area": null,
            "grid_auto_columns": null,
            "grid_auto_flow": null,
            "grid_auto_rows": null,
            "grid_column": null,
            "grid_gap": null,
            "grid_row": null,
            "grid_template_areas": null,
            "grid_template_columns": null,
            "grid_template_rows": null,
            "height": null,
            "justify_content": null,
            "justify_items": null,
            "left": null,
            "margin": null,
            "max_height": null,
            "max_width": null,
            "min_height": null,
            "min_width": null,
            "object_fit": null,
            "object_position": null,
            "order": null,
            "overflow": null,
            "overflow_x": null,
            "overflow_y": null,
            "padding": null,
            "right": null,
            "top": null,
            "visibility": null,
            "width": null
          }
        },
        "90fa2965064340efb9617a4e4025410d": {
          "model_module": "@jupyter-widgets/controls",
          "model_name": "DescriptionStyleModel",
          "model_module_version": "1.5.0",
          "state": {
            "_model_module": "@jupyter-widgets/controls",
            "_model_module_version": "1.5.0",
            "_model_name": "DescriptionStyleModel",
            "_view_count": null,
            "_view_module": "@jupyter-widgets/base",
            "_view_module_version": "1.2.0",
            "_view_name": "StyleView",
            "description_width": ""
          }
        }
      }
    }
  },
  "cells": [
    {
      "cell_type": "markdown",
      "metadata": {
        "id": "JrSYXFbmCZ5s"
      },
      "source": [
        "# Neural search demo - initial indexing\n",
        "\n",
        "Code in this notebook shows how to prepare data for indexing in a vector search engine.\n",
        "\n",
        "It contains the following steps:\n",
        "\n",
        "* Downloading text data which we want to search\n",
        "* Initialization of pre-trained text vectorization models (with SentenceTransformer)\n",
        "* Converting text data into vectors and saving it."
      ]
    },
    {
      "cell_type": "code",
      "metadata": {
        "id": "w2tYEjeeHHT5"
      },
      "source": [
        "# We will use startup descriptions in this neural search demo\n",
        "# Data source: https://startups-list.com/\n",
        "# It contains name, short descrition, logo and location of startups.\n",
        "!wget https://storage.googleapis.com/generall-shared-data/startups_demo.json"
      ],
      "execution_count": null,
      "outputs": []
    },
    {
      "cell_type": "code",
      "metadata": {
        "id": "FhfngYGiCNJP"
      },
      "source": [
        "# We use SentenceTransformer pre-trained models to convert our text into vectors.\n",
        "!pip install sentence-transformers"
      ],
      "execution_count": null,
      "outputs": []
    },
    {
      "cell_type": "code",
      "metadata": {
        "id": "Hk4uS1LBDxEz"
      },
      "source": [
        "from sentence_transformers import SentenceTransformer\n",
        "import numpy as np\n",
        "import json\n",
        "import pandas as pd\n",
        "from tqdm.notebook import tqdm"
      ],
      "execution_count": null,
      "outputs": []
    },
    {
      "cell_type": "code",
      "metadata": {
        "id": "SVmYlQhdDv0S"
      },
      "source": [
        "# This code will download and create a pre-trained sentence encoder\n",
        "\n",
        "# all-MiniLM-L6-v2 - is a distilated (lightweight) version of MPNet model.\n",
        "# It is optimized for the fast inference.\n",
        "# Full list of available models could be found here https://www.sbert.net/docs/pretrained_models.html\n",
        "model = SentenceTransformer('all-MiniLM-L6-v2', device=\"cuda\")"
      ],
      "execution_count": null,
      "outputs": []
    },
    {
      "cell_type": "code",
      "metadata": {
        "id": "O-M1Q1CHEH9P"
      },
      "source": [
        "df = pd.read_json('./startups_demo.json', lines=True)"
      ],
      "execution_count": null,
      "outputs": []
    },
    {
      "cell_type": "code",
      "source": [
        "# Here we encode all startup descriptions\n",
        "# We do encoding in batches, as this reduces overhead costs and significantly speeds up the process\n",
        "vectors = model.encode([\n",
        "    row.alt + \". \" + row.description\n",
        "    for row in df.itertuples()\n",
        "], show_progress_bar=True)"
      ],
      "metadata": {
        "colab": {
          "base_uri": "https://localhost:8080/",
          "height": 49,
          "referenced_widgets": [
            "ffc05069762f480797f5b2df5e224f37",
            "ed8036b011744a85bd0e0224800de81e",
            "ab3e1429ed9148c6b280900de5f0c9da",
            "8cbd00fdaa8944a0a0189b3dd6e8f9da",
            "5039e40c84034f4dac98146de2c7f941",
            "8282c04c35924092bb78ba6437b6a0ab",
            "10825f8a60a245f7947f99419bd45d08",
            "1acb26066dca491d93bd500b767e7c0c",
            "7c4f7ad40a3e4b5e8eb74e94d6f44895",
            "25ee00ee06bd46eeaebfedb8dd7f4ef8",
            "90fa2965064340efb9617a4e4025410d"
          ]
        },
        "id": "p91OBfSPDN1y",
        "outputId": "efff52bf-8e65-403e-fd84-4444ed34ab43"
      },
      "execution_count": null,
      "outputs": [
        {
          "output_type": "display_data",
          "data": {
            "text/plain": [
              "Batches:   0%|          | 0/1265 [00:00<?, ?it/s]"
            ],
            "application/vnd.jupyter.widget-view+json": {
              "version_major": 2,
              "version_minor": 0,
              "model_id": "ffc05069762f480797f5b2df5e224f37"
            }
          },
          "metadata": {}
        }
      ]
    },
    {
      "cell_type": "code",
      "metadata": {
        "colab": {
          "base_uri": "https://localhost:8080/"
        },
        "id": "vBT95rCSMXeZ",
        "outputId": "dd5a29da-2cf9-4dde-c756-f680dacfe19d"
      },
      "source": [
        "# Now we have all our descriptions converted into vectors.\n",
        "# We have 40474 vectors of 384 dimentions. The output layer of the model has this dimension\n",
        "vectors.shape"
      ],
      "execution_count": null,
      "outputs": [
        {
          "output_type": "execute_result",
          "data": {
            "text/plain": [
              "(40474, 384)"
            ]
          },
          "metadata": {},
          "execution_count": 12
        }
      ]
    },
    {
      "cell_type": "code",
      "metadata": {
        "id": "XtfleUz_IiuO"
      },
      "source": [
        "# You can download this saved vectors and continue with rest part of the tutorial.\n",
        "np.save('vectors.npy', vectors, allow_pickle=False)"
      ],
      "execution_count": null,
      "outputs": []
    },
    {
      "cell_type": "code",
      "source": [
        "from google.colab import files\n",
        "files.download('vectors.npy')"
      ],
      "metadata": {
        "colab": {
          "base_uri": "https://localhost:8080/",
          "height": 34
        },
        "id": "SX5IDihZTcwl",
        "outputId": "510f80d5-6388-4506-961b-e6edf9e0fb98"
      },
      "execution_count": null,
      "outputs": [
        {
          "output_type": "display_data",
          "data": {
            "text/plain": [
              "<IPython.core.display.Javascript object>"
            ],
            "application/javascript": [
              "\n",
              "    async function download(id, filename, size) {\n",
              "      if (!google.colab.kernel.accessAllowed) {\n",
              "        return;\n",
              "      }\n",
              "      const div = document.createElement('div');\n",
              "      const label = document.createElement('label');\n",
              "      label.textContent = `Downloading \"${filename}\": `;\n",
              "      div.appendChild(label);\n",
              "      const progress = document.createElement('progress');\n",
              "      progress.max = size;\n",
              "      div.appendChild(progress);\n",
              "      document.body.appendChild(div);\n",
              "\n",
              "      const buffers = [];\n",
              "      let downloaded = 0;\n",
              "\n",
              "      const channel = await google.colab.kernel.comms.open(id);\n",
              "      // Send a message to notify the kernel that we're ready.\n",
              "      channel.send({})\n",
              "\n",
              "      for await (const message of channel.messages) {\n",
              "        // Send a message to notify the kernel that we're ready.\n",
              "        channel.send({})\n",
              "        if (message.buffers) {\n",
              "          for (const buffer of message.buffers) {\n",
              "            buffers.push(buffer);\n",
              "            downloaded += buffer.byteLength;\n",
              "            progress.value = downloaded;\n",
              "          }\n",
              "        }\n",
              "      }\n",
              "      const blob = new Blob(buffers, {type: 'application/binary'});\n",
              "      const a = document.createElement('a');\n",
              "      a.href = window.URL.createObjectURL(blob);\n",
              "      a.download = filename;\n",
              "      div.appendChild(a);\n",
              "      a.click();\n",
              "      div.remove();\n",
              "    }\n",
              "  "
            ]
          },
          "metadata": {}
        },
        {
          "output_type": "display_data",
          "data": {
            "text/plain": [
              "<IPython.core.display.Javascript object>"
            ],
            "application/javascript": [
              "download(\"download_34e2931c-69c4-4157-8412-56b9ea1b9cbc\", \"vectors.npy\", 62168192)"
            ]
          },
          "metadata": {}
        }
      ]
    },
    {
      "cell_type": "markdown",
      "metadata": {
        "id": "DX9jPAOiPMHp"
      },
      "source": [
        "## Optional part - make a test query\n",
        "\n",
        "Let's just make sure, that our vectors are correctly converted and make sense.\n",
        "\n",
        "For this we manually search for a closest vectors of a random sample."
      ]
    },
    {
      "cell_type": "code",
      "metadata": {
        "id": "wrQYXNUpNczo"
      },
      "source": [
        "from sklearn.metrics.pairwise import cosine_similarity"
      ],
      "execution_count": null,
      "outputs": []
    },
    {
      "cell_type": "code",
      "metadata": {
        "colab": {
          "base_uri": "https://localhost:8080/"
        },
        "id": "URJ8t1xHNlR1",
        "outputId": "93988120-6bf9-4d73-f08f-41b0dd403673"
      },
      "source": [
        "# Take a random description as a query\n",
        "sample_query = df.iloc[12345].description\n",
        "print(sample_query)"
      ],
      "execution_count": null,
      "outputs": [
        {
          "output_type": "stream",
          "name": "stdout",
          "text": [
            "Dental transparency provider\n",
            "Deenty is a dentistry marketplace. Find your next dentist in an easy, quick and transparent way. Find reviews, sales prices and education about your next dental treatment.\n"
          ]
        }
      ]
    },
    {
      "cell_type": "code",
      "metadata": {
        "id": "Z8Lr8MNyNwhW"
      },
      "source": [
        "query_vector = model.encode(sample_query)  # Convert query description into a vector."
      ],
      "execution_count": null,
      "outputs": []
    },
    {
      "cell_type": "code",
      "metadata": {
        "id": "qEB0drvZNfK8"
      },
      "source": [
        "scores = cosine_similarity([query_vector], vectors)[0]  # Look for the most similar vectors, manually score all vectors\n",
        "top_scores_ids = np.argsort(scores)[-5:][::-1]  # Select top-5 with vectors the largest scores"
      ],
      "execution_count": null,
      "outputs": []
    },
    {
      "cell_type": "code",
      "metadata": {
        "colab": {
          "base_uri": "https://localhost:8080/"
        },
        "id": "GjK3ULqONo3t",
        "outputId": "8bb6d97e-e842-40a8-8c10-eca912862a36"
      },
      "source": [
        "# Check if result similar to the query\n",
        "for top_id in top_scores_ids:\n",
        "  print(df.iloc[top_id].description)\n",
        "  print(\"-----\")"
      ],
      "execution_count": null,
      "outputs": [
        {
          "output_type": "stream",
          "name": "stdout",
          "text": [
            "Dental transparency provider\n",
            "Deenty is a dentistry marketplace. Find your next dentist in an easy, quick and transparent way. Find reviews, sales prices and education about your next dental treatment.\n",
            "-----\n",
            "Smiley marketplace. We connect patients with dentists\n",
            "Deenty let dentists create a profile who let them be viewed by new patients. On the other hand patients get to know their dentists, book online, learn about treatments and compare prices.\n",
            "We charge dentists everytime they treat one of the patients we send them.\n",
            "-----\n",
            "Our mission is to make quality dental care affordable for everyone.\n",
            "-----\n",
            "Dental management made easy\n",
            "Dentalink is a web based monthly fee software, for the management of dental clinics and practices. With it, you can manage all the resources within, from appointment, notifications, email marketing to performance reports, like cash flow, quotes uptake rate, and ...\n",
            "-----\n",
            "Cure with confidence\n",
            "Dentists make over half their income from resin-based fillings. However, they never been able to ensure their filling materials receive the right amount of energy. PractiCure helps dentists calibrate their curing lights & fillings together to make sure they receive ...\n",
            "-----\n"
          ]
        }
      ]
    },
    {
      "cell_type": "code",
      "source": [],
      "metadata": {
        "id": "FEwHBUHcOrQK"
      },
      "execution_count": null,
      "outputs": []
    }
  ]
}