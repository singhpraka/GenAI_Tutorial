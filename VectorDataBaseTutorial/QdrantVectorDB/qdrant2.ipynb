{
 "cells": [
  {
   "cell_type": "markdown",
   "metadata": {},
   "source": [
    "Points  \n",
    "The fundamental entity within Qdrant, points consists of a vector embedding, an optional ID, and an associated payload, where  \n",
    "id:   \n",
    "A unique identifier for each vector embedding  \n",
    "vector:   \n",
    "A high-dimensional representation of data, which can be either structured or unstructured formats like images, text, documents, PDFs, videos, audio, etc.  \n",
    "payload:  \n",
    "An optional JSON object containing data associated with a vector. This can be considered similar to metadata and we can work with this to filter the search process"
   ]
  },
  {
   "cell_type": "code",
   "execution_count": null,
   "metadata": {},
   "outputs": [],
   "source": []
  }
 ],
 "metadata": {
  "language_info": {
   "name": "python"
  }
 },
 "nbformat": 4,
 "nbformat_minor": 2
}
